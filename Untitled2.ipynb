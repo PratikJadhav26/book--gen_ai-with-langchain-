{
 "cells": [
  {
   "cell_type": "code",
   "execution_count": 2,
   "id": "6b934ed4",
   "metadata": {},
   "outputs": [
    {
     "ename": "SyntaxError",
     "evalue": "invalid syntax (1798916669.py, line 31)",
     "output_type": "error",
     "traceback": [
      "\u001b[1;36m  Cell \u001b[1;32mIn[2], line 31\u001b[1;36m\u001b[0m\n\u001b[1;33m    from None\u001b[0m\n\u001b[1;37m         ^\u001b[0m\n\u001b[1;31mSyntaxError\u001b[0m\u001b[1;31m:\u001b[0m invalid syntax\n"
     ]
    }
   ],
   "source": [
    "@dataclass(frozen=True) \n",
    "\n",
    "class Customer:\n",
    "    \n",
    "    cust_id : str = field() \n",
    "    firstname : str = \"\" \n",
    "\n",
    "    lastname : str = \"\" \n",
    "        \n",
    "    def __post_init__(self):\n",
    "        \n",
    "\n",
    "        self._validate_cust_id() \n",
    "\n",
    "        self.__set_fullname__() \n",
    "    @property \n",
    "    def fullname(self)->str:\n",
    "        \n",
    "        return f\"{self.lastname}, {self.firstname}\"\n",
    "    def _validate_cust_id(self):\n",
    "        \n",
    "        assert len(self.cust_id)==8, \\\n",
    " ValueError(\"Customer ID must have exactly eight characters\")\n",
    "        try:\n",
    "            \n",
    "            \n",
    "            int(self.cust_id[0]) == True\n",
    "        except Exception as err:\n",
    "            \n",
    "            raise TypeError('First character of CustID should be numeric') \n",
    "from None\n",
    "\n",
    "     def __set_fullname__(self):\n",
    "        names = [x.strip().title() for x in re.split(\"[\\W]+\", self.\n",
    "firstname)] + [''] * max((1,-len([y.strip().title() for y in\n",
    "re.split(\"[\\W]+\", self.lastname)])) )\n",
    "        print(names)\n",
    "        self.firstname=' '.join(filter(None,[n[:3]for n in\n",
    "reversed(names)])+[''])\n",
    "        self.lastname =''.join([' '*(4-len(l))+' '+ l[-2:]if not\n",
    "l=='I' else '' for l in filter(None,[n[:-2].upper()+','*bool(re.\n",
    "search('[aeiou]',n))+n[-2:].upper() for n in reversed(names)])]).\n",
    "rstrip(',')\n",
    "\n"
   ]
  },
  {
   "cell_type": "code",
   "execution_count": null,
   "id": "5e54b5f7",
   "metadata": {},
   "outputs": [],
   "source": []
  }
 ],
 "metadata": {
  "kernelspec": {
   "display_name": "Python 3 (ipykernel)",
   "language": "python",
   "name": "python3"
  },
  "language_info": {
   "codemirror_mode": {
    "name": "ipython",
    "version": 3
   },
   "file_extension": ".py",
   "mimetype": "text/x-python",
   "name": "python",
   "nbconvert_exporter": "python",
   "pygments_lexer": "ipython3",
   "version": "3.11.5"
  }
 },
 "nbformat": 4,
 "nbformat_minor": 5
}
